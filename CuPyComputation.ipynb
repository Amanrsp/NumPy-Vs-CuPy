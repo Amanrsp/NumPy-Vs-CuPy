{
  "nbformat": 4,
  "nbformat_minor": 0,
  "metadata": {
    "colab": {
      "provenance": [],
      "gpuType": "T4"
    },
    "kernelspec": {
      "name": "python3",
      "display_name": "Python 3"
    },
    "language_info": {
      "name": "python"
    },
    "accelerator": "GPU"
  },
  "cells": [
    {
      "cell_type": "code",
      "source": [
        "pip install cupy-cuda12x"
      ],
      "metadata": {
        "colab": {
          "base_uri": "https://localhost:8080/"
        },
        "id": "Vv0SDn6iv0h5",
        "outputId": "c83673a8-62b5-41aa-88d5-36df2e79c96f"
      },
      "execution_count": null,
      "outputs": [
        {
          "output_type": "stream",
          "name": "stdout",
          "text": [
            "Requirement already satisfied: cupy-cuda12x in /usr/local/lib/python3.11/dist-packages (13.3.0)\n",
            "Requirement already satisfied: numpy<2.3,>=1.22 in /usr/local/lib/python3.11/dist-packages (from cupy-cuda12x) (2.0.2)\n",
            "Requirement already satisfied: fastrlock>=0.5 in /usr/local/lib/python3.11/dist-packages (from cupy-cuda12x) (0.8.3)\n"
          ]
        }
      ]
    },
    {
      "cell_type": "code",
      "execution_count": null,
      "metadata": {
        "id": "TpS02mwovmzO"
      },
      "outputs": [],
      "source": [
        "# Loading important Libraries\n",
        "import cupy as cp\n",
        "import time\n",
        "import json"
      ]
    },
    {
      "cell_type": "code",
      "source": [
        "sizes = [1000, 2000, 3000, 4000]\n",
        "results = {}"
      ],
      "metadata": {
        "id": "44BFfJvJw9-0"
      },
      "execution_count": null,
      "outputs": []
    },
    {
      "cell_type": "code",
      "source": [
        "for size in sizes:\n",
        "    A = cp.random.rand(size, size)\n",
        "    B = cp.random.rand(size, size)\n",
        "    v = cp.random.rand(size)\n",
        "\n",
        "    results[size] = {}\n",
        "\n",
        "    # Matrix-to-Matrix Multiplication\n",
        "    start = time.time()\n",
        "    C = cp.dot(A, B)\n",
        "    cp.cuda.Device(0).synchronize()\n",
        "    end = time.time()\n",
        "    results[size]['matrix_matrix'] = end - start\n",
        "\n",
        "    # Matrix-to-Vector Multiplication\n",
        "    start = time.time()\n",
        "    Av = cp.dot(A, v)\n",
        "    cp.cuda.Device(0).synchronize()\n",
        "    end = time.time()\n",
        "    results[size]['matrix_vector'] = end - start\n",
        "\n",
        "    # Eigenvalues Alternative (Using SVD)\n",
        "    start = time.time()\n",
        "    _, singular_values, _ = cp.linalg.svd(A)\n",
        "    cp.cuda.Device(0).synchronize()\n",
        "    end = time.time()\n",
        "    results[size]['eigenvalues'] = end - start\n",
        "\n",
        "    # Numeric Linear Algebra (SVD)\n",
        "    start = time.time()\n",
        "    U, S, Vt = cp.linalg.svd(A, full_matrices=False)\n",
        "    cp.cuda.Device(0).synchronize()\n",
        "    end = time.time()\n",
        "    results[size]['linear_algebra'] = end - start\n"
      ],
      "metadata": {
        "id": "hOuGcv74w_qe"
      },
      "execution_count": null,
      "outputs": []
    },
    {
      "cell_type": "code",
      "source": [
        "with open(\"cupy_results.json\", \"w\") as f:\n",
        "    json.dump(results, f)\n",
        "\n",
        "print(\"Cupy benchmarks saved to cupy_results.json\")"
      ],
      "metadata": {
        "colab": {
          "base_uri": "https://localhost:8080/"
        },
        "id": "k5es3ljjxE92",
        "outputId": "03b082a6-8b29-42ea-d953-8dded888c655"
      },
      "execution_count": null,
      "outputs": [
        {
          "output_type": "stream",
          "name": "stdout",
          "text": [
            "Cupy benchmarks saved to cupy_results.json\n"
          ]
        }
      ]
    }
  ]
}