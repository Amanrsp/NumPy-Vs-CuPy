{
  "nbformat": 4,
  "nbformat_minor": 0,
  "metadata": {
    "colab": {
      "provenance": []
    },
    "kernelspec": {
      "name": "python3",
      "display_name": "Python 3"
    },
    "language_info": {
      "name": "python"
    }
  },
  "cells": [
    {
      "cell_type": "code",
      "execution_count": null,
      "metadata": {
        "id": "ts6Clz5a1JJO"
      },
      "outputs": [],
      "source": [
        "# Loading the libraries\n",
        "import numpy as np\n",
        "import time\n",
        "import json"
      ]
    },
    {
      "cell_type": "code",
      "source": [
        "sizes = [1000, 2000, 3000, 4000]\n",
        "results = {}"
      ],
      "metadata": {
        "id": "DlnRbUu11mQJ"
      },
      "execution_count": null,
      "outputs": []
    },
    {
      "cell_type": "code",
      "source": [
        "for size in sizes:\n",
        "    A = np.random.rand(size, size)\n",
        "    B = np.random.rand(size, size)\n",
        "    v = np.random.rand(size)\n",
        "\n",
        "    results[size] = {}\n",
        "\n",
        "    # Matrix-to-Matrix Multiplication\n",
        "    start = time.time()\n",
        "    C = np.dot(A, B)\n",
        "    end = time.time()\n",
        "    results[size]['matrix_matrix'] = end - start\n",
        "\n",
        "    # Matrix-to-Vector Multiplication\n",
        "    start = time.time()\n",
        "    Av = np.dot(A, v)\n",
        "    end = time.time()\n",
        "    results[size]['matrix_vector'] = end - start\n",
        "\n",
        "    # Eigenvalues\n",
        "    start = time.time()\n",
        "    eig_vals = np.linalg.eigvals(A)\n",
        "    end = time.time()\n",
        "    results[size]['eigenvalues'] = end - start\n",
        "\n",
        "    # Numeric Linear Algebra\n",
        "    start = time.time()\n",
        "    U, S, Vt = np.linalg.svd(A, full_matrices=False)\n",
        "    end = time.time()\n",
        "    results[size]['linear_algebra'] = end - start"
      ],
      "metadata": {
        "id": "bw1YhdoN1uN8"
      },
      "execution_count": null,
      "outputs": []
    },
    {
      "cell_type": "code",
      "source": [
        "with open(\"numpy_results.json\", \"w\") as f:\n",
        "    json.dump(results, f)\n",
        "\n",
        "print(\"Numpy benchmarks saved to numpy_results.json\")"
      ],
      "metadata": {
        "colab": {
          "base_uri": "https://localhost:8080/"
        },
        "id": "xF1s1TEN2DfJ",
        "outputId": "aa573c6c-b2b3-4871-812a-3239784d4f1b"
      },
      "execution_count": null,
      "outputs": [
        {
          "output_type": "stream",
          "name": "stdout",
          "text": [
            "Numpy benchmarks saved to numpy_results.json\n"
          ]
        }
      ]
    }
  ]
}